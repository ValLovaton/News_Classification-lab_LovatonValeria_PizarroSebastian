import json, pandas as pd

# Cargamos el archivo con las 50 noticias
with open("data/rpp_source.json", "r", encoding="utf-8") as f:
    news = json.load(f)

# DF
df = pd.DataFrame(news)


for i, row in enumerate(df.itertuples(), start=1):
    print(f"{i}) {row.title.strip()} — {row.description.strip()}\n")


print("“Clasifica cada noticia según las categorías del AG News dataset: 0-World, 1-Sports, 2-Business, 3-Science/Technology.”")
