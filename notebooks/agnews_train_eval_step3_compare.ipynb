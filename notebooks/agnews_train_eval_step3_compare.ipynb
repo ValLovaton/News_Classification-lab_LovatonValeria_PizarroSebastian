{
 "cells": [
  {
   "cell_type": "markdown",
   "id": "c2764dd9",
   "metadata": {},
   "source": [
    "# Task 2 · Paso 3 — Comparación RoBERTa vs DeBERTa vs ModernBERT\n",
    "Entrenamos 3 modelos por 2 épocas y comparamos **Macro-F1** en test."
   ]
  },
  {
   "cell_type": "code",
   "execution_count": null,
   "id": "9118b539",
   "metadata": {},
   "outputs": [],
   "source": [
    "\n",
    "# !pip -q install -r ../requirements.txt\n",
    "import os, pandas as pd, matplotlib.pyplot as plt, seaborn as sns\n",
    "from src.train_eval import set_seed, stratified_split_agnews, train_and_eval, MODEL_SPECS\n",
    "set_seed(42)\n",
    "splits = stratified_split_agnews()\n",
    "{k: len(splits[k]) for k in [\"train\",\"validation\",\"test\"]}\n"
   ]
  },
  {
   "cell_type": "code",
   "execution_count": null,
   "id": "6b0337d3",
   "metadata": {},
   "outputs": [],
   "source": [
    "\n",
    "results = []\n",
    "for spec in MODEL_SPECS:\n",
    "    try:\n",
    "        out = train_and_eval(spec.id, splits, outdir=f\"outputs/{spec.name.replace(' ','_')}\", epochs=2.0)\n",
    "        f1 = out[\"test_metrics\"].get(\"macro_f1\", None)\n",
    "    except Exception as e:\n",
    "        f1 = None\n",
    "        out = {\"test_metrics\": {\"macro_f1\": None, \"error\": str(e)}}\n",
    "    results.append({\"model\": spec.name, \"macro_f1\": f1, \"raw\": out})\n",
    "import pandas as pd\n",
    "df = pd.DataFrame(results)\n",
    "display(df[[\"model\",\"macro_f1\"]])\n",
    "df.to_csv(\"outputs/agnews_f1_results.csv\", index=False)\n"
   ]
  },
  {
   "cell_type": "code",
   "execution_count": null,
   "id": "8d259b3a",
   "metadata": {},
   "outputs": [],
   "source": [
    "\n",
    "import matplotlib.pyplot as plt, seaborn as sns\n",
    "plt.figure(figsize=(6,4))\n",
    "sns.barplot(data=df, x=\"model\", y=\"macro_f1\")\n",
    "plt.title(\"AG News — Macro F1 por modelo\")\n",
    "plt.ylabel(\"Macro F1 (test)\"); plt.xlabel(\"Modelo\")\n",
    "plt.ylim(0, 1); plt.tight_layout()\n",
    "plt.savefig(\"outputs/agnews_f1_comparison.png\"); plt.show()\n"
   ]
  }
 ],
 "metadata": {
  "kernelspec": {
   "display_name": "Python 3",
   "language": "python",
   "name": "python3"
  },
  "language_info": {
   "name": "python",
   "version": "3.10"
  }
 },
 "nbformat": 4,
 "nbformat_minor": 5
}
