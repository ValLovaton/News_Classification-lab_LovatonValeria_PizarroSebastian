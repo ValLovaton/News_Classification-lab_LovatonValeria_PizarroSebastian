{
 "cells": [
  {
   "cell_type": "markdown",
   "metadata": {},
   "source": [
    "# Preparar clasificación de noticias RPP\n",
    "Este cuaderno:\n",
    "1. Cargamos las 50 noticias desde `data/rpp_source.json`.\n",
    "2. Generamos el bloque numerado para pedir clasificación a un LLM (0-World, 1-Sports, 2-Business, 3-Science/Tech).\n",
    "3. Guardamos el resultado clasificado en `data/rpp_classified.json`."
   ]
  },
  {
   "cell_type": "code",
   "execution_count": null,
   "metadata": {},
   "outputs": [],
   "source": [
    "import json, pandas as pd, os\n",
    "\n",
    "# === 1. Cargar las 50 noticias del RSS ===\n",
    "with open('data/rpp_source.json', 'r', encoding='utf-8') as f:\n",
    "    news = json.load(f)\n",
    "df = pd.DataFrame(news)\n",
    "print(f'Noticias cargadas: {len(df)}')\n",
    "df.head(2)"
   ]
  },
  {
   "cell_type": "code",
   "execution_count": null,
   "metadata": {},
   "outputs": [],
   "source": [
    "# === 2. Generar bloque numerado ===\n",
    "for i, row in enumerate(df.itertuples(), start=1):\n",
    "    print(f\"{i}) {row.title.strip()} — {row.description.strip()}\\n\")\n",
    "\n",
    "print('\\n Copiamos este bloque y lo pegamos en nuestra LLM (ChatGPT o modelo local) con la instrucción:')\n",
    "print('Clasifica cada noticia en una categoría AG News: 0=World, 1=Sports, 2=Business, 3=Science/Technology.')"
   ]
  },
  {
   "cell_type": "code",
   "execution_count": null,
   "metadata": {},
   "outputs": [],
   "source": [
    "# === 3. Guardar archivo clasificado (cuando tengas las etiquetas del LLM) ===\n",
    "# Sustituye los valores de 'labels' con la lista que devuelva el modelo\n",
    "labels = []  # ← pega aquí la lista, ej: [0,1,2,0,3,...]\n",
    "\n",
    "assert len(labels) == len(df), 'La lista de etiquetas debe tener 50 elementos.'\n",
    "\n",
    "df['label_llm'] = labels\n",
    "os.makedirs('data', exist_ok=True)\n",
    "out_path = 'data/rpp_classified.json'\n",
    "df.to_json(out_path, orient='records', indent=2, force_ascii=False)\n",
    "print(f'Guardado {out_path} con {len(df)} registros.')"
   ]
  }
 ],
 "metadata": {
  "kernelspec": {
   "display_name": "Python 3",
   "language": "python",
   "name": "python3"
  },
  "language_info": { "name": "python", "version": "3.10" }
 },
 "nbformat": 4,
 "nbformat_minor": 5
}

