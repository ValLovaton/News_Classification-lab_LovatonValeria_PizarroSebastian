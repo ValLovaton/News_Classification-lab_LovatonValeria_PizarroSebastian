{
 "cells": [
  {
   "cell_type": "markdown",
   "id": "5191f521",
   "metadata": {},
   "source": [
    "# BONUS · Preparar rpp_classified.json\n",
    "\n",
    "Usa este cuaderno **solo** para el bonus.\n",
    "\n",
    "1) Genera el bloque numerado a partir de `data/rpp_source.json`.\n",
    "2) Pega la **lista JSON** de etiquetas del LLM y guarda `data/rpp_classified.json`."
   ]
  },
  {
   "cell_type": "code",
   "execution_count": null,
   "id": "4f7f54ac",
   "metadata": {},
   "outputs": [],
   "source": [
    "\n",
    "# Celda 1 — Generar bloque numerado (título — descripción) para enviar al LLM\n",
    "import json, pandas as pd\n",
    "\n",
    "src_path = \"data/rpp_source.json\"  # súbelo desde la repo 1\n",
    "with open(src_path, \"r\", encoding=\"utf-8\") as f:\n",
    "    items = json.load(f)\n",
    "\n",
    "df = pd.DataFrame(items)[[\"title\",\"description\",\"link\"]]\n",
    "lines = []\n",
    "for i, row in df.iterrows():\n",
    "    lines.append(f\"{i+1}) {row['title']} — {row['description']}\")\n",
    "block = \"Noticias:\\n\" + \"\\n\".join(lines)\n",
    "print(block[:2000])  # vista previa (Colab corta si es muy largo)\n",
    "# from IPython.display import HTML; HTML(f\"<pre>{block}</pre>\")\n"
   ]
  },
  {
   "cell_type": "code",
   "execution_count": null,
   "id": "c1b67f21",
   "metadata": {},
   "outputs": [],
   "source": [
    "\n",
    "# Celda 2 — Pegar la lista JSON de etiquetas del LLM y guardar rpp_classified.json\n",
    "import json\n",
    "\n",
    "# ⬇⬇⬇ Reemplaza esta lista por la que te devuelve el LLM (debe tener N elementos) ⬇⬇⬇\n",
    "labels = [2,1,3]  # EJEMPLO — reemplaza por tu lista completa\n",
    "\n",
    "assert len(labels) > 0, \"Pega aquí la lista completa de etiquetas del LLM\"\n",
    "assert 'df' in globals(), \"Ejecuta primero la Celda 1 para crear el DataFrame df\"\n",
    "assert len(labels) == len(df), f\"La lista de labels ({len(labels)}) debe coincidir con el número de noticias ({len(df)})\"\n",
    "\n",
    "df_out = df.copy()\n",
    "df_out[\"label_llm\"] = labels\n",
    "\n",
    "out = df_out.to_dict(orient=\"records\")\n",
    "with open(\"data/rpp_classified.json\", \"w\", encoding=\"utf-8\") as f:\n",
    "    json.dump(out, f, ensure_ascii=False, indent=2)\n",
    "\n",
    "print(f\"Guardado: data/rpp_classified.json con {len(out)} registros\")\n",
    "out[0]\n"
   ]
  }
 ],
 "metadata": {
  "kernelspec": {
   "display_name": "Python 3",
   "language": "python",
   "name": "python3"
  },
  "language_info": {
   "name": "python",
   "version": "3.10"
  }
 },
 "nbformat": 4,
 "nbformat_minor": 5
}
