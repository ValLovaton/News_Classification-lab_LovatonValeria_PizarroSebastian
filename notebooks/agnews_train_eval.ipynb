{
 "cells": [
  {
   "cell_type": "markdown",
   "metadata": {},
   "source": [
    "# Task 2 · Paso 1 — Split 70/15/15 en AG News\n",
    "Verificamos tamaños (train/validation/test) y equilibrio de etiquetas."
   ]
  },
  {
   "cell_type": "code",
   "execution_count": null,
   "metadata": {},
   "outputs": [],
   "source": [
    "# !pip -q install -r ../requirements.txt\n",
    "from src.train_eval import set_seed, stratified_split_agnews\n",
    "set_seed(42)\n",
    "splits = stratified_split_agnews(train=0.70, val=0.15, test=0.15)\n",
    "{k: len(splits[k]) for k in [\"train\",\"validation\",\"test\"]}"
   ]
  },
  {
   "cell_type": "code",
   "execution_count": null,
   "metadata": {},
   "outputs": [],
   "source": [
    "# Revisión rápida de equilibrio de etiquetas\n",
    "import pandas as pd, collections\n",
    "def label_dist(ds):\n",
    "    return pd.Series(collections.Counter(list(ds[\"label\"]))).sort_index()\n",
    "{k: label_dist(splits[k]) for k in [\"train\",\"validation\",\"test\"]}"
   ]
  }
 ],
 "metadata": {
  "kernelspec": { "display_name": "Python 3", "language": "python", "name": "python3" },
  "language_info": { "name": "python", "version": "3.10" }
 },
 "nbformat": 4,
 "nbformat_minor": 5
}

