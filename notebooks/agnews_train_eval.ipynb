{
 "cells": [
  {
   "cell_type": "markdown",
   "metadata": {},
   "source": [
    "# Task 2 · Paso 1 — Split 70/15/15 en AG News\n",
    "Verificamos tamaños de cada partición (train/validation/test) y que todo use rutas relativas."
   ]
  },
  {
   "cell_type": "code",
   "metadata": {},
   "outputs": [],
   "source": [
    "# !pip -q install -r ../requirements.txt\n",
    "from src.train_eval import set_seed, stratified_split_agnews\n",
    "set_seed(42)\n",
    "\n",
    "splits = stratified_split_agnews(train=0.70, val=0.15, test=0.15)\n",
    "lens = {k: len(splits[k]) for k in [\"train\",\"validation\",\"test\"]}\n",
    "lens"
   ]
  },
  {
   "cell_type": "code",
   "metadata": {},
   "outputs": [],
   "source": [
    "# Revisión rápida de equilibrio de etiquetas\n",
    "import pandas as pd\n",
    "def label_dist(ds):\n",
    "    import collections\n",
    "    return pd.Series(collections.Counter(list(ds[\"label\"]))).sort_index()\n",
    "\n",
    "dist = {k: label_dist(splits[k]) for k in [\"train\",\"validation\",\"test\"]}\n",
    "dist[\"train\"], dist[\"validation\"], dist[\"test\"]"
   ]
  }
 ],
 "metadata": {
  "kernelspec": { "display_name": "Python 3", "language": "python", "name": "python3" },
  "language_info": { "name": "python", "version": "3.10" }
 },
 "nbformat": 4,
 "nbformat_minor": 5
}
