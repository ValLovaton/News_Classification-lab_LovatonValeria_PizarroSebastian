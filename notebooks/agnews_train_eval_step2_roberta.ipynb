{
 "cells": [
  {
   "cell_type": "markdown",
   "id": "0ad08c8d",
   "metadata": {},
   "source": [
    "# Task 2 · Paso 2 — Entrenamiento RoBERTa (baseline)\n",
    "Entrenamos `roberta-base` por 2 épocas y medimos **Macro-F1** en test."
   ]
  },
  {
   "cell_type": "code",
   "execution_count": null,
   "id": "7fd3089e",
   "metadata": {},
   "outputs": [],
   "source": [
    "\n",
    "# !pip -q install -r ../requirements.txt\n",
    "from src.train_eval import set_seed, stratified_split_agnews, train_roberta\n",
    "set_seed(42)\n",
    "splits = stratified_split_agnews(train=0.70, val=0.15, test=0.15)\n",
    "{k: len(splits[k]) for k in [\"train\",\"validation\",\"test\"]}\n"
   ]
  },
  {
   "cell_type": "code",
   "execution_count": null,
   "id": "e375a7a4",
   "metadata": {},
   "outputs": [],
   "source": [
    "\n",
    "out = train_roberta(splits, outdir=\"outputs/roberta\")\n",
    "out\n"
   ]
  },
  {
   "cell_type": "markdown",
   "id": "2aa0d79a",
   "metadata": {},
   "source": [
    "Al finalizar, verás un dict con `{'test_metrics': {'macro_f1': ...}}`. También se guardan checkpoints en `outputs/roberta/`."
   ]
  }
 ],
 "metadata": {
  "kernelspec": {
   "display_name": "Python 3",
   "language": "python",
   "name": "python3"
  },
  "language_info": {
   "name": "python",
   "version": "3.10"
  }
 },
 "nbformat": 4,
 "nbformat_minor": 5
}
